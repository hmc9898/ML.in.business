{
 "cells": [
  {
   "cell_type": "markdown",
   "metadata": {},
   "source": [
    "# Optimizing Oil Well Selection for Maximum Profit"
   ]
  },
  {
   "cell_type": "markdown",
   "metadata": {},
   "source": [
    "This project aims to identify the most profitable region for a new oil well by analyzing geological data from three locations. We will predict oil reserves, select the most promising wells, and conduct a break-even analysis to assess financial viability. Additionally, the Bootstrapping technique will help evaluate potential risks. The final recommendation will be based on the region with the highest expected profit and the lowest risk of financial loss, ensuring a data-driven investment decision.\n",
    "\n",
    "\n",
    "Heather Marie Culligan\n",
    "\n",
    "March 2025"
   ]
  },
  {
   "cell_type": "markdown",
   "metadata": {},
   "source": [
    "Time to import the datasets and needed libraries. Then to take a quick overview of the data we are working with."
   ]
  },
  {
   "cell_type": "code",
   "execution_count": 1,
   "metadata": {},
   "outputs": [],
   "source": [
    "import pandas as pd\n",
    "import numpy as np\n",
    "from sklearn.model_selection import train_test_split\n",
    "from sklearn.linear_model import LinearRegression\n",
    "from sklearn.metrics import mean_squared_error"
   ]
  },
  {
   "cell_type": "code",
   "execution_count": 2,
   "metadata": {},
   "outputs": [],
   "source": [
    "df0=pd.read_csv('/datasets/geo_data_0.csv')\n",
    "df1=pd.read_csv('/datasets/geo_data_1.csv')\n",
    "df2=pd.read_csv('/datasets/geo_data_2.csv')"
   ]
  },
  {
   "cell_type": "code",
   "execution_count": 3,
   "metadata": {},
   "outputs": [
    {
     "data": {
      "text/plain": [
       "(      id        f0        f1        f2     product\n",
       " 0  txEyH  0.705745 -0.497823  1.221170  105.280062\n",
       " 1  2acmU  1.334711 -0.340164  4.365080   73.037750\n",
       " 2  409Wp  1.022732  0.151990  1.419926   85.265647\n",
       " 3  iJLyR -0.032172  0.139033  2.978566  168.620776\n",
       " 4  Xdl7t  1.988431  0.155413  4.751769  154.036647,\n",
       "       id         f0         f1        f2     product\n",
       " 0  kBEdx -15.001348  -8.276000 -0.005876    3.179103\n",
       " 1  62mP7  14.272088  -3.475083  0.999183   26.953261\n",
       " 2  vyE1P   6.263187  -5.948386  5.001160  134.766305\n",
       " 3  KcrkZ -13.081196 -11.506057  4.999415  137.945408\n",
       " 4  AHL4O  12.702195  -8.147433  5.004363  134.766305,\n",
       "       id        f0        f1        f2     product\n",
       " 0  fwXo0 -1.146987  0.963328 -0.828965   27.758673\n",
       " 1  WJtFt  0.262778  0.269839 -2.530187   56.069697\n",
       " 2  ovLUW  0.194587  0.289035 -5.586433   62.871910\n",
       " 3  q6cA6  2.236060 -0.553760  0.930038  114.572842\n",
       " 4  WPMUX -0.515993  1.716266  5.899011  149.600746)"
      ]
     },
     "execution_count": 3,
     "metadata": {},
     "output_type": "execute_result"
    }
   ],
   "source": [
    "df0.head(), df1.head(), df2.head()"
   ]
  },
  {
   "cell_type": "code",
   "execution_count": 4,
   "metadata": {},
   "outputs": [
    {
     "data": {
      "text/plain": [
       "(id         0\n",
       " f0         0\n",
       " f1         0\n",
       " f2         0\n",
       " product    0\n",
       " dtype: int64,\n",
       " id         0\n",
       " f0         0\n",
       " f1         0\n",
       " f2         0\n",
       " product    0\n",
       " dtype: int64,\n",
       " id         0\n",
       " f0         0\n",
       " f1         0\n",
       " f2         0\n",
       " product    0\n",
       " dtype: int64)"
      ]
     },
     "execution_count": 4,
     "metadata": {},
     "output_type": "execute_result"
    }
   ],
   "source": [
    "df0.isnull().sum(),df1.isnull().sum(),df2.isnull().sum()"
   ]
  },
  {
   "cell_type": "code",
   "execution_count": 5,
   "metadata": {},
   "outputs": [
    {
     "data": {
      "text/plain": [
       "(count    100000.000000\n",
       " mean         92.500000\n",
       " std          44.288691\n",
       " min           0.000000\n",
       " 25%          56.497507\n",
       " 50%          91.849972\n",
       " 75%         128.564089\n",
       " max         185.364347\n",
       " Name: product, dtype: float64,\n",
       " count    100000.000000\n",
       " mean         68.825000\n",
       " std          45.944423\n",
       " min           0.000000\n",
       " 25%          26.953261\n",
       " 50%          57.085625\n",
       " 75%         107.813044\n",
       " max         137.945408\n",
       " Name: product, dtype: float64,\n",
       " count    100000.000000\n",
       " mean         95.000000\n",
       " std          44.749921\n",
       " min           0.000000\n",
       " 25%          59.450441\n",
       " 50%          94.925613\n",
       " 75%         130.595027\n",
       " max         190.029838\n",
       " Name: product, dtype: float64)"
      ]
     },
     "execution_count": 5,
     "metadata": {},
     "output_type": "execute_result"
    }
   ],
   "source": [
    "df0[\"product\"].describe(),df1[\"product\"].describe(),df2[\"product\"].describe()"
   ]
  },
  {
   "cell_type": "markdown",
   "metadata": {},
   "source": [
    "Region 2 has the highest average reserves at 95,000 barrels, while Region 1 has the lowest at 68,830 barrels. Additionally, Region 1 shows the highest standard deviation, indicating greater variability in reserves. Regions 0 and 2 have relatively similar distributions, making them more stable compared to Region 1."
   ]
  },
  {
   "cell_type": "code",
   "execution_count": 6,
   "metadata": {},
   "outputs": [
    {
     "data": {
      "text/plain": [
       "{'df0': {'Average Predicted Reserves': 92.3987999065777,\n",
       "  'RMSE': 37.756600350261685},\n",
       " 'df1': {'Average Predicted Reserves': 68.71287803913762,\n",
       "  'RMSE': 0.890280100102884},\n",
       " 'df2': {'Average Predicted Reserves': 94.77102387765939,\n",
       "  'RMSE': 40.14587231134218}}"
      ]
     },
     "execution_count": 6,
     "metadata": {},
     "output_type": "execute_result"
    }
   ],
   "source": [
    "datasets = {'df0': df0, 'df1': df1, 'df2': df2}\n",
    "train_test_splits ={}\n",
    "for name, df in datasets.items():\n",
    "    X = df[['f0', 'f1', 'f2']]\n",
    "    y= df['product']\n",
    "    X_train, X_valid, y_train, y_valid= train_test_split(X,y, test_size=0.25, random_state=42)\n",
    "    train_test_splits[name] =(X_train, X_valid, y_train, y_valid)\n",
    "model_results ={}\n",
    "for name, (X_train, X_valid, y_train, y_valid) in train_test_splits.items():\n",
    "    model= LinearRegression()\n",
    "    model.fit(X_train, y_train)\n",
    "    predictions= model.predict(X_valid)\n",
    "    rmse= mean_squared_error(y_valid, predictions, squared=False)\n",
    "    \n",
    "    model_results[name] = {\n",
    "        \"Average Predicted Reserves\": predictions.mean(),\n",
    "        \"RMSE\": rmse\n",
    "    }\n",
    "model_results"
   ]
  },
  {
   "cell_type": "markdown",
   "metadata": {},
   "source": [
    "The model for Region 1 has an extremely low RMSE (0.89), indicating that predictions are very close to actual values and suggesting a strong linear relationship in this region. In contrast, Region 2 has the highest predicted reserves but also the highest RMSE (40.15), meaning predictions have greater variability and a higher margin of error. Region 0 falls in between, with moderate predicted reserves and an RMSE that is neither the lowest nor the highest, making it a balanced but less predictable option compared to Region 1.\n",
    "\n",
    "\n",
    "Next, I will calculate the break-even point for oil well profitability and compare it with the average reserves of each region. "
   ]
  },
  {
   "cell_type": "code",
   "execution_count": 7,
   "metadata": {},
   "outputs": [],
   "source": [
    "budget= 100_000_000 #$100m\n",
    "wells_selected= 200 # wells to develop within this budget\n",
    "revenue_per_barrel= 4.5 * 1000 #$4,500 per thousand barrels\n",
    "\n",
    "break_even_reserves = budget/ (wells_selected * revenue_per_barrel)"
   ]
  },
  {
   "cell_type": "markdown",
   "metadata": {},
   "source": [
    "Now I will make note of just average reserves per region."
   ]
  },
  {
   "cell_type": "code",
   "execution_count": 8,
   "metadata": {},
   "outputs": [],
   "source": [
    "region0_reserves=df0[\"product\"].mean()\n",
    "region1_reserves=df1[\"product\"].mean()\n",
    "region2_reserves=df2[\"product\"].mean()\n",
    "average_reserves= region0_reserves, region1_reserves, region2_reserves"
   ]
  },
  {
   "cell_type": "code",
   "execution_count": 9,
   "metadata": {},
   "outputs": [
    {
     "data": {
      "text/plain": [
       "(111.11111111111111, (92.50000000000001, 68.82500000000002, 95.00000000000004))"
      ]
     },
     "execution_count": 9,
     "metadata": {},
     "output_type": "execute_result"
    }
   ],
   "source": [
    "break_even_reserves,average_reserves"
   ]
  },
  {
   "cell_type": "markdown",
   "metadata": {},
   "source": [
    "Break-even reserve volume required per well is 111.11 thousand barrels. \n",
    "\n",
    "None of the regions have an average reserve volume that meets the break-even point of 111.11 thousand barrels. Region 2 has the highest average reserves at 95.00 thousand barrels, followed closely by Region 0 at 92.50 thousand barrels. Region 1 has the lowest reserves at 68.83 thousand barrels, making it the least viable option for profitability under these conditions.\n",
    "\n",
    "Next, I'll calculate the expected profit based on selecting the top 200 wells in each region."
   ]
  },
  {
   "cell_type": "code",
   "execution_count": 21,
   "metadata": {},
   "outputs": [
    {
     "data": {
      "text/plain": [
       "{'df0': 33591411.14462179,\n",
       " 'df1': 24150866.966815114,\n",
       " 'df2': 25985717.593741104}"
      ]
     },
     "execution_count": 21,
     "metadata": {},
     "output_type": "execute_result"
    }
   ],
   "source": [
    "def calculate_profit(y_true, y_pred):\n",
    "    top_200_indices = np.argsort(y_pred)[-wells_selected:]\n",
    "    selected_reserves = y_true.iloc[top_200_indices].sum()\n",
    "    total_profit= selected_reserves * revenue_per_barrel - budget\n",
    "    return total_profit\n",
    "\n",
    "profit_results= {}\n",
    "for name, (X_train, X_valid, y_train, y_valid) in train_test_splits.items():\n",
    "    model = LinearRegression()\n",
    "    model.fit(X_train, y_train)\n",
    "    y_pred = model.predict(X_valid)\n",
    "    profit = calculate_profit(y_valid, y_pred)\n",
    "    profit_results[name] = profit\n",
    "    \n",
    "profit_results"
   ]
  },
  {
   "cell_type": "markdown",
   "metadata": {},
   "source": [
    "Region 0 has the highest expected profit at 33.59 million dollars, making it the most promising region for oil well development. In contrast, Region 1 has the lowest expected profit at 24.15 million dollars, reinforcing its weak performance and lower viability. While Region 2 performs slightly better than Region 1 with 25.99 million dollars in expected profit, it still falls significantly behind Region 0, making Region 0 the most favorable choice for investment.\n",
    "\n",
    "Next, I will perform a risk analysis using the Bootstrapping technique to determine the probability of losses.\n"
   ]
  },
  {
   "cell_type": "code",
   "execution_count": 25,
   "metadata": {},
   "outputs": [
    {
     "data": {
      "text/plain": [
       "{'df0': {'Average Profit': 3943242.639078174,\n",
       "  '95% Confidence Interval': (-1345340.4646150325, 8833658.999631852),\n",
       "  'Risk of loss (%)': 6.800000000000001},\n",
       " 'df1': {'Average Profit': 4351519.952321745,\n",
       "  '95% Confidence Interval': (538115.3577330221, 8159631.9631077675),\n",
       "  'Risk of loss (%)': 1.0999999999999999},\n",
       " 'df2': {'Average Profit': 3705467.181720576,\n",
       "  '95% Confidence Interval': (-1648494.3611169476, 8920955.579312857),\n",
       "  'Risk of loss (%)': 8.200000000000001}}"
      ]
     },
     "execution_count": 25,
     "metadata": {},
     "output_type": "execute_result"
    }
   ],
   "source": [
    "bootstrap_results = {}\n",
    "for name, (X_train, X_valid, y_train, y_valid) in train_test_splits.items():\n",
    "    model = LinearRegression() \n",
    "    model.fit(X_train, y_train)\n",
    "    y_pred = model.predict(X_valid)\n",
    "    profits = []\n",
    "    for _ in range(1000):\n",
    "        sample_indices = np.random.choice(len(y_valid), size=500, replace=True)\n",
    "        sample_y_true = y_valid.iloc[sample_indices]\n",
    "        sample_y_pred = pd.Series(y_pred, index=y_valid.index).iloc[sample_indices]\n",
    "        profit = calculate_profit(sample_y_true, sample_y_pred)\n",
    "        profits.append(profit)\n",
    "\n",
    "    avg_profit = np.mean(profits)\n",
    "    lower_bound = np.percentile(profits, 2.5)\n",
    "    upper_bound = np.percentile(profits, 97.5)\n",
    "    loss_risk = (np.array(profits) < 0).mean() * 100\n",
    "    \n",
    "    bootstrap_results[name] = {\n",
    "        \"Average Profit\": avg_profit,\n",
    "        \"95% Confidence Interval\": (lower_bound, upper_bound),\n",
    "        \"Risk of loss (%)\": loss_risk\n",
    "    }\n",
    "    \n",
    "bootstrap_results"
   ]
  },
  {
   "cell_type": "markdown",
   "metadata": {},
   "source": [
    "Based on the analysis of the three regions, df1 emerges as the optimal choice for oil well development. It has the highest average profit of 4,301,003 dollars and the lowest risk of loss at just 0.17%, making it both a profitable and secure investment. While df0 also has a relatively high average profit of 4,081,273 dollars and a low risk of 0.65%, it is still slightly less favorable than df1. Meanwhile, df2 has the lowest average profit at 3,807,294M dollars and the highest risk at 0.76%, making it the least attractive option. Additionally, the 95% confidence interval for df1 is (375,587 dollars to 8,259,151 dollars), indicating a lower likelihood of negative outcomes compared to df0 and df2, whose confidence intervals extend further into negative values. Given these factors, df1 is the most financially viable and least risky region for new oil well development."
   ]
  },
  {
   "cell_type": "markdown",
   "metadata": {},
   "source": [
    "After analyzing geological data from three regions, we built a linear regression model to predict oil reserves and selected the most profitable wells. Using bootstrapping, we assessed potential profit and risk, ensuring only regions with a loss probability below 2.5% were considered. Our findings indicate that Region 1 offers the highest average profit while maintaining acceptable risk levels. Based on these insights, we recommend investing in this region for oil well development, as it provides the best return on investment. Further validation and market analysis can enhance decision-making and optimize profitability."
   ]
  }
 ],
 "metadata": {
  "ExecuteTimeLog": [
   {
    "duration": 336,
    "start_time": "2025-03-06T21:36:53.751Z"
   },
   {
    "duration": 514,
    "start_time": "2025-03-06T21:38:12.783Z"
   },
   {
    "duration": 292,
    "start_time": "2025-03-06T21:38:19.851Z"
   },
   {
    "duration": 13,
    "start_time": "2025-03-06T21:42:20.639Z"
   },
   {
    "duration": 10,
    "start_time": "2025-03-06T21:42:50.279Z"
   },
   {
    "duration": 16,
    "start_time": "2025-03-06T21:43:09.895Z"
   },
   {
    "duration": 18,
    "start_time": "2025-03-06T21:44:48.962Z"
   },
   {
    "duration": 18,
    "start_time": "2025-03-06T21:45:11.607Z"
   },
   {
    "duration": 2,
    "start_time": "2025-03-06T21:46:32.836Z"
   },
   {
    "duration": 2,
    "start_time": "2025-03-06T22:01:03.315Z"
   },
   {
    "duration": 5,
    "start_time": "2025-03-06T22:02:16.842Z"
   },
   {
    "duration": 4,
    "start_time": "2025-03-06T22:03:16.485Z"
   },
   {
    "duration": 4,
    "start_time": "2025-03-06T22:05:49.279Z"
   },
   {
    "duration": 4,
    "start_time": "2025-03-06T22:06:06.688Z"
   },
   {
    "duration": 4,
    "start_time": "2025-03-06T22:06:32.697Z"
   },
   {
    "duration": 3,
    "start_time": "2025-03-06T22:06:42.121Z"
   },
   {
    "duration": 2,
    "start_time": "2025-03-06T22:06:47.270Z"
   },
   {
    "duration": 4,
    "start_time": "2025-03-06T22:06:47.791Z"
   },
   {
    "duration": 4,
    "start_time": "2025-03-06T22:07:05.337Z"
   },
   {
    "duration": 4,
    "start_time": "2025-03-06T22:07:05.623Z"
   },
   {
    "duration": 4,
    "start_time": "2025-03-06T22:08:07.534Z"
   },
   {
    "duration": 4,
    "start_time": "2025-03-06T22:08:08.455Z"
   },
   {
    "duration": 4,
    "start_time": "2025-03-06T22:08:26.476Z"
   },
   {
    "duration": 4,
    "start_time": "2025-03-06T22:09:27.880Z"
   },
   {
    "duration": 4,
    "start_time": "2025-03-06T22:09:29.416Z"
   },
   {
    "duration": 4,
    "start_time": "2025-03-06T22:09:57.049Z"
   },
   {
    "duration": 3,
    "start_time": "2025-03-06T22:09:57.328Z"
   },
   {
    "duration": 424,
    "start_time": "2025-03-06T22:14:06.470Z"
   },
   {
    "duration": 30,
    "start_time": "2025-03-06T22:21:20.672Z"
   },
   {
    "duration": 125,
    "start_time": "2025-03-06T22:25:44.200Z"
   },
   {
    "duration": 36,
    "start_time": "2025-03-06T22:25:50.333Z"
   },
   {
    "duration": 70,
    "start_time": "2025-03-06T22:25:57.487Z"
   },
   {
    "duration": 4,
    "start_time": "2025-03-06T22:36:37.415Z"
   },
   {
    "duration": 17,
    "start_time": "2025-03-06T22:42:49.509Z"
   },
   {
    "duration": 103,
    "start_time": "2025-03-06T22:43:38.036Z"
   },
   {
    "duration": 775,
    "start_time": "2025-03-06T22:43:51.287Z"
   },
   {
    "duration": 242,
    "start_time": "2025-03-06T22:43:52.064Z"
   },
   {
    "duration": 17,
    "start_time": "2025-03-06T22:43:52.307Z"
   },
   {
    "duration": 15,
    "start_time": "2025-03-06T22:43:52.326Z"
   },
   {
    "duration": 18,
    "start_time": "2025-03-06T22:43:52.343Z"
   },
   {
    "duration": 71,
    "start_time": "2025-03-06T22:43:52.364Z"
   },
   {
    "duration": 3,
    "start_time": "2025-03-06T22:43:52.436Z"
   },
   {
    "duration": 4,
    "start_time": "2025-03-06T22:43:52.441Z"
   },
   {
    "duration": 79,
    "start_time": "2025-03-06T22:43:52.446Z"
   },
   {
    "duration": 365,
    "start_time": "2025-03-06T22:43:52.528Z"
   },
   {
    "duration": 14,
    "start_time": "2025-03-06T22:44:10.399Z"
   },
   {
    "duration": 3,
    "start_time": "2025-03-06T22:44:16.040Z"
   },
   {
    "duration": 804,
    "start_time": "2025-03-06T22:44:21.346Z"
   },
   {
    "duration": 242,
    "start_time": "2025-03-06T22:44:22.152Z"
   },
   {
    "duration": 13,
    "start_time": "2025-03-06T22:44:22.396Z"
   },
   {
    "duration": 24,
    "start_time": "2025-03-06T22:44:22.411Z"
   },
   {
    "duration": 17,
    "start_time": "2025-03-06T22:44:22.438Z"
   },
   {
    "duration": 79,
    "start_time": "2025-03-06T22:44:22.457Z"
   },
   {
    "duration": 3,
    "start_time": "2025-03-06T22:44:22.539Z"
   },
   {
    "duration": 80,
    "start_time": "2025-03-06T22:44:22.545Z"
   },
   {
    "duration": 5,
    "start_time": "2025-03-06T22:44:22.627Z"
   },
   {
    "duration": 100,
    "start_time": "2025-03-06T22:44:22.634Z"
   },
   {
    "duration": 222,
    "start_time": "2025-03-06T23:07:33.975Z"
   },
   {
    "duration": 7886,
    "start_time": "2025-03-06T23:09:19.315Z"
   },
   {
    "duration": 7965,
    "start_time": "2025-03-06T23:09:29.823Z"
   },
   {
    "duration": 11,
    "start_time": "2025-03-07T23:14:10.250Z"
   },
   {
    "duration": 802,
    "start_time": "2025-03-07T23:14:16.331Z"
   },
   {
    "duration": 344,
    "start_time": "2025-03-07T23:14:17.136Z"
   },
   {
    "duration": 13,
    "start_time": "2025-03-07T23:14:17.481Z"
   },
   {
    "duration": 17,
    "start_time": "2025-03-07T23:14:17.495Z"
   },
   {
    "duration": 18,
    "start_time": "2025-03-07T23:14:17.514Z"
   },
   {
    "duration": 82,
    "start_time": "2025-03-07T23:14:17.535Z"
   },
   {
    "duration": 51,
    "start_time": "2025-03-07T23:14:17.619Z"
   },
   {
    "duration": 5,
    "start_time": "2025-03-07T23:14:17.672Z"
   },
   {
    "duration": 3,
    "start_time": "2025-03-07T23:14:17.679Z"
   },
   {
    "duration": 96,
    "start_time": "2025-03-07T23:14:17.684Z"
   },
   {
    "duration": 9,
    "start_time": "2025-03-07T23:14:17.784Z"
   },
   {
    "duration": 7836,
    "start_time": "2025-03-07T23:15:03.368Z"
   },
   {
    "duration": 715,
    "start_time": "2025-03-07T23:16:12.451Z"
   },
   {
    "duration": 214,
    "start_time": "2025-03-07T23:16:13.168Z"
   },
   {
    "duration": 15,
    "start_time": "2025-03-07T23:16:13.384Z"
   },
   {
    "duration": 19,
    "start_time": "2025-03-07T23:16:13.401Z"
   },
   {
    "duration": 21,
    "start_time": "2025-03-07T23:16:13.422Z"
   },
   {
    "duration": 136,
    "start_time": "2025-03-07T23:16:13.444Z"
   },
   {
    "duration": 3,
    "start_time": "2025-03-07T23:16:13.581Z"
   },
   {
    "duration": 4,
    "start_time": "2025-03-07T23:16:13.586Z"
   },
   {
    "duration": 3,
    "start_time": "2025-03-07T23:16:13.592Z"
   },
   {
    "duration": 173,
    "start_time": "2025-03-07T23:16:13.597Z"
   },
   {
    "duration": 7836,
    "start_time": "2025-03-07T23:16:13.775Z"
   },
   {
    "duration": 8064,
    "start_time": "2025-03-07T23:18:54.968Z"
   },
   {
    "duration": 7984,
    "start_time": "2025-03-07T23:19:26.144Z"
   },
   {
    "duration": 1587,
    "start_time": "2025-03-07T23:19:51.010Z"
   },
   {
    "duration": 773,
    "start_time": "2025-03-07T23:21:00.213Z"
   },
   {
    "duration": 267,
    "start_time": "2025-03-07T23:21:00.988Z"
   },
   {
    "duration": 19,
    "start_time": "2025-03-07T23:21:01.257Z"
   },
   {
    "duration": 15,
    "start_time": "2025-03-07T23:21:01.277Z"
   },
   {
    "duration": 20,
    "start_time": "2025-03-07T23:21:01.296Z"
   },
   {
    "duration": 93,
    "start_time": "2025-03-07T23:21:01.318Z"
   },
   {
    "duration": 3,
    "start_time": "2025-03-07T23:21:01.475Z"
   },
   {
    "duration": 7,
    "start_time": "2025-03-07T23:21:01.480Z"
   },
   {
    "duration": 6,
    "start_time": "2025-03-07T23:21:01.489Z"
   },
   {
    "duration": 192,
    "start_time": "2025-03-07T23:21:01.496Z"
   },
   {
    "duration": 1693,
    "start_time": "2025-03-07T23:21:01.691Z"
   },
   {
    "duration": 765,
    "start_time": "2025-03-07T23:50:12.023Z"
   },
   {
    "duration": 217,
    "start_time": "2025-03-07T23:50:12.790Z"
   },
   {
    "duration": 14,
    "start_time": "2025-03-07T23:50:13.008Z"
   },
   {
    "duration": 19,
    "start_time": "2025-03-07T23:50:13.026Z"
   },
   {
    "duration": 32,
    "start_time": "2025-03-07T23:50:13.048Z"
   },
   {
    "duration": 92,
    "start_time": "2025-03-07T23:50:13.081Z"
   },
   {
    "duration": 2,
    "start_time": "2025-03-07T23:50:13.175Z"
   },
   {
    "duration": 5,
    "start_time": "2025-03-07T23:50:13.179Z"
   },
   {
    "duration": 4,
    "start_time": "2025-03-07T23:50:13.185Z"
   },
   {
    "duration": 110,
    "start_time": "2025-03-07T23:50:13.190Z"
   },
   {
    "duration": 1656,
    "start_time": "2025-03-07T23:50:13.301Z"
   },
   {
    "duration": 743,
    "start_time": "2025-03-08T08:16:28.664Z"
   },
   {
    "duration": 291,
    "start_time": "2025-03-08T08:16:29.409Z"
   },
   {
    "duration": 13,
    "start_time": "2025-03-08T08:16:29.702Z"
   },
   {
    "duration": 17,
    "start_time": "2025-03-08T08:16:29.717Z"
   },
   {
    "duration": 17,
    "start_time": "2025-03-08T08:16:29.735Z"
   },
   {
    "duration": 101,
    "start_time": "2025-03-08T08:16:29.770Z"
   },
   {
    "duration": 3,
    "start_time": "2025-03-08T08:16:30.881Z"
   },
   {
    "duration": 4,
    "start_time": "2025-03-08T08:16:31.552Z"
   },
   {
    "duration": 3,
    "start_time": "2025-03-08T08:16:31.975Z"
   },
   {
    "duration": 94,
    "start_time": "2025-03-08T08:16:33.377Z"
   },
   {
    "duration": 535,
    "start_time": "2025-03-08T08:17:43.570Z"
   },
   {
    "duration": 362,
    "start_time": "2025-03-08T08:18:07.021Z"
   },
   {
    "duration": 65,
    "start_time": "2025-03-08T08:18:21.210Z"
   },
   {
    "duration": 29,
    "start_time": "2025-03-08T08:18:31.454Z"
   },
   {
    "duration": 136,
    "start_time": "2025-03-08T08:18:36.744Z"
   },
   {
    "duration": 146,
    "start_time": "2025-03-08T08:18:39.330Z"
   },
   {
    "duration": 35,
    "start_time": "2025-03-08T08:19:13.296Z"
   },
   {
    "duration": 3250,
    "start_time": "2025-03-08T08:19:18.809Z"
   },
   {
    "duration": 35,
    "start_time": "2025-03-08T08:20:11.290Z"
   },
   {
    "duration": 2933,
    "start_time": "2025-03-08T08:20:14.284Z"
   },
   {
    "duration": 93,
    "start_time": "2025-03-08T08:20:35.994Z"
   },
   {
    "duration": 1649,
    "start_time": "2025-03-08T08:20:40.912Z"
   },
   {
    "duration": 3,
    "start_time": "2025-03-08T08:21:22.977Z"
   },
   {
    "duration": 900,
    "start_time": "2025-03-08T08:21:23.541Z"
   },
   {
    "duration": 925,
    "start_time": "2025-03-08T08:21:48.465Z"
   }
  ],
  "kernelspec": {
   "display_name": "Python 3 (ipykernel)",
   "language": "python",
   "name": "python3"
  },
  "language_info": {
   "codemirror_mode": {
    "name": "ipython",
    "version": 3
   },
   "file_extension": ".py",
   "mimetype": "text/x-python",
   "name": "python",
   "nbconvert_exporter": "python",
   "pygments_lexer": "ipython3",
   "version": "3.9.19"
  },
  "toc": {
   "base_numbering": 1,
   "nav_menu": {},
   "number_sections": true,
   "sideBar": true,
   "skip_h1_title": true,
   "title_cell": "Table of Contents",
   "title_sidebar": "Contents",
   "toc_cell": false,
   "toc_position": {},
   "toc_section_display": true,
   "toc_window_display": false
  }
 },
 "nbformat": 4,
 "nbformat_minor": 2
}
